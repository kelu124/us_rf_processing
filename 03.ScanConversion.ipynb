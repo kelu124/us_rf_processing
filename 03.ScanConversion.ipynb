{
 "cells": [
  {
   "cell_type": "markdown",
   "metadata": {},
   "source": [
    "# Scan conversion\n",
    "\n",
    "#### Objective\n",
    "\n",
    "Transform a series of line into an image that geometrically makes sense:\n",
    "\n",
    "![](images/7317421464689659964.jpg)\n",
    "\n",
    "#### Litterature\n",
    "\n",
    "* Interesting http://www.k-wave.org/documentation/scanConversion.php \n",
    "* https://www.researchgate.net/publication/265425106_Signal_Processing_Overview_of_Ultrasound_Systems_for_Medical_Imaging/figures?lo=1\n",
    "* https://www.researchgate.net/publication/259614810_Programmable_ultrasound_scan_conversion_on_a_media-processor-based_system"
   ]
  },
  {
   "cell_type": "code",
   "execution_count": null,
   "metadata": {},
   "outputs": [],
   "source": []
  }
 ],
 "metadata": {
  "kernelspec": {
   "display_name": "Python 3",
   "language": "python",
   "name": "python3"
  },
  "language_info": {
   "codemirror_mode": {
    "name": "ipython",
    "version": 3
   },
   "file_extension": ".py",
   "mimetype": "text/x-python",
   "name": "python",
   "nbconvert_exporter": "python",
   "pygments_lexer": "ipython3",
   "version": "3.6.9"
  }
 },
 "nbformat": 4,
 "nbformat_minor": 4
}
