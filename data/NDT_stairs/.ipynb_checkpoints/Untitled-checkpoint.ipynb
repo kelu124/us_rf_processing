{
 "cells": [
  {
   "cell_type": "code",
   "execution_count": 1,
   "metadata": {},
   "outputs": [
    {
     "name": "stderr",
     "output_type": "stream",
     "text": [
      "In /home/kelu/.local/lib/python3.6/site-packages/matplotlib/mpl-data/stylelib/_classic_test.mplstyle: \n",
      "The text.latex.preview rcparam was deprecated in Matplotlib 3.3 and will be removed two minor releases later.\n",
      "In /home/kelu/.local/lib/python3.6/site-packages/matplotlib/mpl-data/stylelib/_classic_test.mplstyle: \n",
      "The mathtext.fallback_to_cm rcparam was deprecated in Matplotlib 3.3 and will be removed two minor releases later.\n",
      "In /home/kelu/.local/lib/python3.6/site-packages/matplotlib/mpl-data/stylelib/_classic_test.mplstyle: Support for setting the 'mathtext.fallback_to_cm' rcParam is deprecated since 3.3 and will be removed two minor releases later; use 'mathtext.fallback : 'cm' instead.\n",
      "In /home/kelu/.local/lib/python3.6/site-packages/matplotlib/mpl-data/stylelib/_classic_test.mplstyle: \n",
      "The validate_bool_maybe_none function was deprecated in Matplotlib 3.3 and will be removed two minor releases later.\n",
      "In /home/kelu/.local/lib/python3.6/site-packages/matplotlib/mpl-data/stylelib/_classic_test.mplstyle: \n",
      "The savefig.jpeg_quality rcparam was deprecated in Matplotlib 3.3 and will be removed two minor releases later.\n",
      "In /home/kelu/.local/lib/python3.6/site-packages/matplotlib/mpl-data/stylelib/_classic_test.mplstyle: \n",
      "The keymap.all_axes rcparam was deprecated in Matplotlib 3.3 and will be removed two minor releases later.\n",
      "In /home/kelu/.local/lib/python3.6/site-packages/matplotlib/mpl-data/stylelib/_classic_test.mplstyle: \n",
      "The animation.avconv_path rcparam was deprecated in Matplotlib 3.3 and will be removed two minor releases later.\n",
      "In /home/kelu/.local/lib/python3.6/site-packages/matplotlib/mpl-data/stylelib/_classic_test.mplstyle: \n",
      "The animation.avconv_args rcparam was deprecated in Matplotlib 3.3 and will be removed two minor releases later.\n"
     ]
    },
    {
     "name": "stdout",
     "output_type": "stream",
     "text": [
      "Not loading RPi.GPIO as not on RPi\n",
      "pyexiv2 does not exist on RPi\n"
     ]
    }
   ],
   "source": [
    "from pyUn0 import *\n",
    "import numpy as np"
   ]
  },
  {
   "cell_type": "code",
   "execution_count": 2,
   "metadata": {},
   "outputs": [
    {
     "name": "stdout",
     "output_type": "stream",
     "text": [
      "Data acquired\n"
     ]
    },
    {
     "name": "stderr",
     "output_type": "stream",
     "text": [
      "/home/kelu/ultrasound/us_rf_processing/data/NDT_stairs/pyUn0.py:672: UserWarning: Matplotlib is currently using agg, which is a non-GUI backend, so cannot show the figure.\n",
      "  plt.show()\n"
     ]
    },
    {
     "name": "stdout",
     "output_type": "stream",
     "text": [
      "PyExiv not present\n",
      "3648 10\n",
      "PyExiv not present\n"
     ]
    },
    {
     "name": "stderr",
     "output_type": "stream",
     "text": [
      "/home/kelu/ultrasound/us_rf_processing/data/NDT_stairs/pyUn0.py:774: UserWarning: Matplotlib is currently using agg, which is a non-GUI backend, so cannot show the figure.\n",
      "  plt.show()\n"
     ]
    },
    {
     "data": {
      "text/plain": [
       "array([[-0.0234375 , -0.03125   , -0.0234375 , ..., -0.0859375 ,\n",
       "         0.        ,  0.        ],\n",
       "       [-0.08203125, -0.08203125, -0.078125  , ..., -0.08984375,\n",
       "         0.        ,  0.        ],\n",
       "       [-0.07421875, -0.0859375 , -0.08203125, ..., -0.0703125 ,\n",
       "         0.        ,  0.        ],\n",
       "       ...,\n",
       "       [-0.0546875 , -0.0625    , -0.0703125 , ..., -0.08984375,\n",
       "         0.        ,  0.        ],\n",
       "       [-0.0859375 , -0.08203125, -0.08203125, ..., -0.0625    ,\n",
       "         0.        ,  0.        ],\n",
       "       [-0.0859375 , -0.0703125 , -0.078125  , ..., -0.046875  ,\n",
       "         0.        ,  0.        ]])"
      ]
     },
     "execution_count": 2,
     "metadata": {},
     "output_type": "execute_result"
    }
   ],
   "source": [
    "y = us_json()\n",
    "for k in range(5):\n",
    "    k=k+1\n",
    "    y.fPiezo = 4\n",
    "    y.Bandwidth = 1.6\n",
    "    y.JSONprocessing(\"20190404a-\"+str(k)+\".json\")\n",
    "    y.create_fft() \n",
    "    y.mk2DArray()\n",
    "    np.savez(\"data_\"+str(k)+\".npz\")"
   ]
  },
  {
   "cell_type": "code",
   "execution_count": 4,
   "metadata": {},
   "outputs": [
    {
     "data": {
      "text/plain": [
       "array([[-0.0234375 , -0.03125   , -0.0234375 , ..., -0.0859375 ,\n",
       "         0.        ,  0.        ],\n",
       "       [-0.08203125, -0.08203125, -0.078125  , ..., -0.08984375,\n",
       "         0.        ,  0.        ],\n",
       "       [-0.07421875, -0.0859375 , -0.08203125, ..., -0.0703125 ,\n",
       "         0.        ,  0.        ],\n",
       "       ...,\n",
       "       [-0.0546875 , -0.0625    , -0.0703125 , ..., -0.08984375,\n",
       "         0.        ,  0.        ],\n",
       "       [-0.0859375 , -0.08203125, -0.08203125, ..., -0.0625    ,\n",
       "         0.        ,  0.        ],\n",
       "       [-0.0859375 , -0.0703125 , -0.078125  , ..., -0.046875  ,\n",
       "         0.        ,  0.        ]])"
      ]
     },
     "execution_count": 4,
     "metadata": {},
     "output_type": "execute_result"
    }
   ],
   "source": []
  },
  {
   "cell_type": "code",
   "execution_count": null,
   "metadata": {},
   "outputs": [],
   "source": []
  }
 ],
 "metadata": {
  "kernelspec": {
   "display_name": "Python 3",
   "language": "python",
   "name": "python3"
  },
  "language_info": {
   "codemirror_mode": {
    "name": "ipython",
    "version": 3
   },
   "file_extension": ".py",
   "mimetype": "text/x-python",
   "name": "python",
   "nbconvert_exporter": "python",
   "pygments_lexer": "ipython3",
   "version": "3.6.9"
  }
 },
 "nbformat": 4,
 "nbformat_minor": 4
}
